{
 "cells": [
  {
   "cell_type": "code",
   "execution_count": 1,
   "id": "f5b10860",
   "metadata": {},
   "outputs": [
    {
     "data": {
      "text/plain": [
       "10"
      ]
     },
     "execution_count": 1,
     "metadata": {},
     "output_type": "execute_result"
    }
   ],
   "source": [
    "a=10\n",
    "a"
   ]
  },
  {
   "cell_type": "code",
   "execution_count": 2,
   "id": "20b4876f",
   "metadata": {},
   "outputs": [
    {
     "data": {
      "text/plain": [
       "'hi'"
      ]
     },
     "execution_count": 2,
     "metadata": {},
     "output_type": "execute_result"
    }
   ],
   "source": [
    "s='hi'\n",
    "s"
   ]
  },
  {
   "cell_type": "markdown",
   "id": "0eaae9b6",
   "metadata": {},
   "source": [
    "# this is h1 header"
   ]
  },
  {
   "cell_type": "markdown",
   "id": "eaa958ce",
   "metadata": {},
   "source": [
    "## This is h2 header"
   ]
  },
  {
   "cell_type": "markdown",
   "id": "fc888fb3",
   "metadata": {},
   "source": [
    "### this is h3 header\n",
    "#### this is h4 header\n"
   ]
  },
  {
   "cell_type": "markdown",
   "id": "c963facb",
   "metadata": {},
   "source": [
    "### this is h3 header\n",
    "#### this is h4 header\n"
   ]
  },
  {
   "cell_type": "markdown",
   "id": "e38cef44",
   "metadata": {},
   "source": [
    "**Python** is a high-level, general-purpose programming language. Its design philosophy emphasizes code readability with the use of significant indentation. **```Python```** is dynamically typed and garbage-collected. It supports multiple programming paradigms, __including structured__, object-oriented and functional programming.\n",
    "\n",
    "X<sup>2</sup>\n",
    "\n",
    "H<sub>2</sub>O\n"
   ]
  },
  {
   "cell_type": "code",
   "execution_count": null,
   "id": "88b4f7de",
   "metadata": {},
   "outputs": [],
   "source": []
  }
 ],
 "metadata": {
  "kernelspec": {
   "display_name": "Python 3 (ipykernel)",
   "language": "python",
   "name": "python3"
  },
  "language_info": {
   "codemirror_mode": {
    "name": "ipython",
    "version": 3
   },
   "file_extension": ".py",
   "mimetype": "text/x-python",
   "name": "python",
   "nbconvert_exporter": "python",
   "pygments_lexer": "ipython3",
   "version": "3.11.2"
  }
 },
 "nbformat": 4,
 "nbformat_minor": 5
}
